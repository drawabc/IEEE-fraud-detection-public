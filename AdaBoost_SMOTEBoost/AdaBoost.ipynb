{
  "nbformat": 4,
  "nbformat_minor": 0,
  "metadata": {
    "colab": {
      "name": "AdaBoost.ipynb",
      "provenance": [],
      "collapsed_sections": [],
      "include_colab_link": true
    },
    "kernelspec": {
      "name": "python3",
      "display_name": "Python 3"
    },
    "accelerator": "GPU"
  },
  "cells": [
    {
      "cell_type": "markdown",
      "metadata": {
        "id": "view-in-github",
        "colab_type": "text"
      },
      "source": [
        "<a href=\"https://colab.research.google.com/github/HansAlbertLianto/ieee-fraud-detection/blob/master/AdaBoost.ipynb\" target=\"_parent\"><img src=\"https://colab.research.google.com/assets/colab-badge.svg\" alt=\"Open In Colab\"/></a>"
      ]
    },
    {
      "cell_type": "code",
      "metadata": {
        "id": "mmDCYAweNVoZ",
        "colab_type": "code",
        "colab": {}
      },
      "source": [
        "# Load libraries\n",
        "from sklearn.ensemble import AdaBoostClassifier\n",
        "# Import train_test_split function\n",
        "from sklearn.model_selection import train_test_split\n",
        "# Import scikit-learn metrics module for accuracy calculation\n",
        "from sklearn import metrics"
      ],
      "execution_count": 0,
      "outputs": []
    },
    {
      "cell_type": "code",
      "metadata": {
        "id": "zE8WzGtzNdCk",
        "colab_type": "code",
        "colab": {}
      },
      "source": [
        "# Import standard libraries\n",
        "import pandas as pd\n",
        "import numpy as np\n",
        "import matplotlib.pyplot as plt\n",
        "# Import preprocessing for label encoding purposes\n",
        "from sklearn import preprocessing"
      ],
      "execution_count": 0,
      "outputs": []
    },
    {
      "cell_type": "code",
      "metadata": {
        "id": "LhjiFgFDNf_8",
        "colab_type": "code",
        "colab": {}
      },
      "source": [
        "pd.set_option('display.max_rows', None)\n",
        "pd.set_option('display.max_columns', None)\n",
        "\n",
        "features_to_take = ['TransactionID', 'TransactionDT', 'TransactionAmt', 'ProductCD', 'card1', 'card2', 'card3',\n",
        "                    'card4', 'card5', 'card6', 'addr1', 'addr2', 'dist1', 'dist2', 'P_emaildomain', 'R_emaildomain',\n",
        "                    'C1', 'C2', 'C3', 'C4', 'C5', 'C6', 'C7', 'C8', 'C9', 'C10', 'C11', 'C12', 'C13', 'C14', 'D2',\n",
        "                    'D3', 'D4', 'D5', 'D10', 'D11', 'D15', 'M1', 'M2', 'M3', 'M4', 'M5', 'M6', 'M7', 'M8', 'M9', 'V1',\n",
        "                    'V3', 'V5', 'V7', 'V11', 'V13', 'V14', 'V16', 'V20', 'V24', 'V26', 'V28', 'V30', 'V35', 'V36',\n",
        "                    'V38', 'V40', 'V41', 'V45', 'V47', 'V49', 'V54', 'V55', 'V56', 'V58', 'V62', 'V65', 'V67', 'V68',\n",
        "                    'V70', 'V76', 'V78', 'V80', 'V83', 'V87', 'V88', 'V89', 'V91', 'V107', 'V110', 'V112', 'V119',\n",
        "                    'V121', 'V122', 'V125', 'V131', 'V138', 'V140', 'V142', 'V145', 'V147', 'V162', 'V169', 'V173', \n",
        "                    'V174', 'V185', 'V195', 'V210', 'V216', 'V220', 'V222', 'V241', 'V251', 'V271', 'V280', 'V281',\n",
        "                    'V283', 'V284', 'V286', 'V287', 'V289', 'V291', 'V301', 'V303', 'V305', 'V311', 'V314', 'V323',\n",
        "                    'V325', 'V335']\n",
        "\n",
        "features_to_take_id = ['TransactionID', 'id_01', 'id_02', 'id_03', 'id_04', 'id_05', 'id_06', 'id_09', 'id_10',\n",
        "                       'id_11', 'id_12', 'id_13', 'id_14', 'id_15', 'id_16', 'id_17', 'id_18', 'id_19', 'id_20',\n",
        "                       'id_28', 'id_29', 'id_30', 'id_31', 'id_32', 'id_33', 'id_34', 'id_35', 'id_36', 'id_37',\n",
        "                       'id_38', 'DeviceType', 'DeviceInfo']\n",
        "\n",
        "# ID attributes in \n",
        "features_to_take_id_test = [feature.replace('_', '-') for feature in features_to_take_id]\n",
        "\n",
        "# Mention features encoded to a particular dtype\n",
        "string_features_train = ['ProductCD', 'card4', 'card6', 'P_emaildomain', 'R_emaildomain', 'M4', 'id_12', 'id_15',\n",
        "                         'id_16', 'id_28', 'id_29', 'id_30', 'id_31', 'id_33', 'id_34', 'DeviceType', 'DeviceInfo']\n",
        "\n",
        "string_features_test = [feature.replace('_', '-') for feature in string_features_train]\n",
        "\n",
        "boolean_features = ['M' + str(i) for i in range(1, 10) if i != 4] + ['id_' + str(i) for i in range(35, 39)]"
      ],
      "execution_count": 0,
      "outputs": []
    },
    {
      "cell_type": "code",
      "metadata": {
        "id": "ngdlUhyjNi1A",
        "colab_type": "code",
        "colab": {}
      },
      "source": [
        "# Uploading the train and test datasets\n",
        "train_df = pd.read_csv('../dataset/train_transaction.csv', usecols=features_to_take + ['isFraud'])\n",
        "test_df = pd.read_csv('../dataset/test_transaction.csv', usecols=features_to_take)\n",
        "\n",
        "train_df_id = pd.read_csv('../dataset/train_identity.csv', usecols=features_to_take_id)\n",
        "test_df_id = pd.read_csv('../dataset/test_identity.csv', usecols=features_to_take_id_test)\n",
        "\n",
        "# Left join dataset\n",
        "train_df = train_df.merge(right=train_df_id, how='left', on='TransactionID')\n",
        "test_df = test_df.merge(right=test_df_id, how='left', on='TransactionID')"
      ],
      "execution_count": 0,
      "outputs": []
    },
    {
      "cell_type": "code",
      "metadata": {
        "id": "IVTkkFV_Nt97",
        "colab_type": "code",
        "colab": {}
      },
      "source": [
        "renaming_mapper = dict(zip(features_to_take_id_test, features_to_take_id))"
      ],
      "execution_count": 0,
      "outputs": []
    },
    {
      "cell_type": "code",
      "metadata": {
        "id": "IgyOhfFDNunJ",
        "colab_type": "code",
        "colab": {}
      },
      "source": [
        "test_df.rename(mapper=renaming_mapper, axis='columns', inplace=True)"
      ],
      "execution_count": 0,
      "outputs": []
    },
    {
      "cell_type": "code",
      "metadata": {
        "id": "-Z_wCoOYNxL1",
        "colab_type": "code",
        "colab": {}
      },
      "source": [
        "# Label encoding preprocessing from sklearn\n",
        "le = preprocessing.LabelEncoder()\n",
        "\n",
        "concat_df = pd.concat([train_df, test_df])\n",
        "\n",
        "for feature in string_features_train:\n",
        "    train_df[feature] = train_df[feature].astype('str')\n",
        "    test_df[feature] = test_df[feature].astype('str')\n",
        "    concat_df[feature] = concat_df[feature].astype('str')\n",
        "    le.fit(concat_df[feature])\n",
        "    train_df[feature] = le.transform(train_df[feature])\n",
        "    test_df[feature] = le.transform(test_df[feature])\n",
        "    \n",
        "for feature in boolean_features:\n",
        "    train_df[feature] = train_df[feature].astype('bool')\n",
        "    test_df[feature] = test_df[feature].astype('bool')"
      ],
      "execution_count": 0,
      "outputs": []
    },
    {
      "cell_type": "code",
      "metadata": {
        "id": "fua5vkXiN2i7",
        "colab_type": "code",
        "colab": {}
      },
      "source": [
        "# X contains all features in train dataset except for the isFraud column\n",
        "X = train_df.loc[:,train_df.columns!=\"isFraud\"]"
      ],
      "execution_count": 0,
      "outputs": []
    },
    {
      "cell_type": "code",
      "metadata": {
        "id": "knT1VO2EN9o9",
        "colab_type": "code",
        "colab": {}
      },
      "source": [
        "# Y contains the isFraud column\n",
        "Y = train_df.loc[:,train_df.columns==\"isFraud\"]"
      ],
      "execution_count": 0,
      "outputs": []
    },
    {
      "cell_type": "code",
      "metadata": {
        "id": "O4fNNgmOdzSl",
        "colab_type": "code",
        "colab": {}
      },
      "source": [
        "# Separates test dataset into X and Y for Kaggle testing purposes\n",
        "X_fortest = test_df.loc[:,test_df.columns!=\"isFraud\"]\n",
        "Y_fortest = test_df.loc[:,test_df.columns==\"isFraud\"]"
      ],
      "execution_count": 0,
      "outputs": []
    },
    {
      "cell_type": "code",
      "metadata": {
        "id": "o8ClI4K2gT8s",
        "colab_type": "code",
        "outputId": "45769435-9a86-4156-a0aa-1090875d1568",
        "colab": {
          "base_uri": "https://localhost:8080/",
          "height": 102
        }
      },
      "source": [
        "# Fills empty cells in X and Y with its mean values\n",
        "X.fillna(X.mean(), inplace = True)\n",
        "Y.fillna(Y.mean(), inplace = True)"
      ],
      "execution_count": 22,
      "outputs": [
        {
          "output_type": "stream",
          "text": [
            "/usr/local/lib/python3.6/dist-packages/pandas/core/generic.py:6245: SettingWithCopyWarning: \n",
            "A value is trying to be set on a copy of a slice from a DataFrame\n",
            "\n",
            "See the caveats in the documentation: https://pandas.pydata.org/pandas-docs/stable/user_guide/indexing.html#returning-a-view-versus-a-copy\n",
            "  self._update_inplace(new_data)\n"
          ],
          "name": "stderr"
        }
      ]
    },
    {
      "cell_type": "code",
      "metadata": {
        "id": "ppqUE5jNOF2H",
        "colab_type": "code",
        "colab": {}
      },
      "source": [
        "# Gets values of X and Y for train-test splitting\n",
        "Y_NUMPY = Y.values\n",
        "X_NUMPY = X.values"
      ],
      "execution_count": 0,
      "outputs": []
    },
    {
      "cell_type": "code",
      "metadata": {
        "id": "u40xXyUqOIlM",
        "colab_type": "code",
        "outputId": "1bf72bd1-2991-4b03-8f73-11a5d45c95a3",
        "colab": {
          "base_uri": "https://localhost:8080/",
          "height": 173
        }
      },
      "source": [
        "# Train test split (70-30 train-test) for cross validation\n",
        "from sklearn.model_selection import train_test_split\n",
        "\n",
        "X_train, X_test, y_train, y_test = train_test_split(X_NUMPY, Y_NUMPY, test_size=0.3, random_state=0)\n",
        "print(\"Number transactions X_train dataset: \", X_train.shape)\n",
        "print(\"Number transactions y_train dataset: \", y_train.shape)\n",
        "print(\"Number transactions X_test dataset: \", X_test.shape)\n",
        "print(\"Number transactions y_test dataset: \", y_test.shape)"
      ],
      "execution_count": 24,
      "outputs": [
        {
          "output_type": "stream",
          "text": [
            "/usr/local/lib/python3.6/dist-packages/sklearn/externals/six.py:31: FutureWarning: The module is deprecated in version 0.21 and will be removed in version 0.23 since we've dropped support for Python 2.7. Please rely on the official version of six (https://pypi.org/project/six/).\n",
            "  \"(https://pypi.org/project/six/).\", FutureWarning)\n",
            "/usr/local/lib/python3.6/dist-packages/sklearn/utils/deprecation.py:144: FutureWarning: The sklearn.neighbors.base module is  deprecated in version 0.22 and will be removed in version 0.24. The corresponding classes / functions should instead be imported from sklearn.neighbors. Anything that cannot be imported from sklearn.neighbors is now part of the private API.\n",
            "  warnings.warn(message, FutureWarning)\n"
          ],
          "name": "stderr"
        },
        {
          "output_type": "stream",
          "text": [
            "Number transactions X_train dataset:  (413378, 157)\n",
            "Number transactions y_train dataset:  (413378, 1)\n",
            "Number transactions X_test dataset:  (177162, 157)\n",
            "Number transactions y_test dataset:  (177162, 1)\n"
          ],
          "name": "stdout"
        }
      ]
    },
    {
      "cell_type": "code",
      "metadata": {
        "id": "4f_4OT9ZRxPO",
        "colab_type": "code",
        "outputId": "377fad08-4fb4-4cca-e9b6-e63df533e5dd",
        "colab": {
          "base_uri": "https://localhost:8080/",
          "height": 51
        }
      },
      "source": [
        "# Training of AdaBoostClassifier\n",
        "classifier = AdaBoostClassifier(n_estimators=100, random_state=42)\n",
        "classifier.fit(X_train, y_train.ravel())"
      ],
      "execution_count": 25,
      "outputs": [
        {
          "output_type": "execute_result",
          "data": {
            "text/plain": [
              "AdaBoostClassifier(algorithm='SAMME.R', base_estimator=None, learning_rate=1.0,\n",
              "                   n_estimators=100, random_state=42)"
            ]
          },
          "metadata": {
            "tags": []
          },
          "execution_count": 25
        }
      ]
    },
    {
      "cell_type": "code",
      "metadata": {
        "id": "IfNhWXy2SouB",
        "colab_type": "code",
        "colab": {}
      },
      "source": [
        "# Predict on validation set\n",
        "predictions = classifier.predict(X_test)"
      ],
      "execution_count": 0,
      "outputs": []
    },
    {
      "cell_type": "code",
      "metadata": {
        "id": "9mXC6rpa6t8d",
        "colab_type": "code",
        "colab": {}
      },
      "source": [
        "# Function for plotting custom confusion matrix\n",
        "# We normalize the values\n",
        "import itertools\n",
        "\n",
        "def plot_confusion_matrix(cm, classes,\n",
        "                          normalize=True,\n",
        "                          title='Confusion matrix',\n",
        "                          cmap=plt.cm.Blues):\n",
        "    \"\"\"\n",
        "    This function prints and plots the confusion matrix.\n",
        "    Normalization can be applied by setting `normalize=True`.\n",
        "    \"\"\"\n",
        "    plt.imshow(cm, interpolation='nearest', cmap=cmap)\n",
        "    plt.title(title)\n",
        "    plt.colorbar()\n",
        "    tick_marks = np.arange(len(classes))\n",
        "    plt.xticks(tick_marks, classes, rotation=0)\n",
        "    plt.yticks(tick_marks, classes)\n",
        "\n",
        "    if normalize:\n",
        "        cm = cm.astype('float') / cm.sum(axis=1)[:, np.newaxis]\n",
        "        #print(\"Normalized confusion matrix\")\n",
        "    else:\n",
        "        #print('Confusion matrix, without normalization')\n",
        "\n",
        "    print(cm)\n",
        "\n",
        "    thresh = cm.max() / 2.\n",
        "    for i, j in itertools.product(range(cm.shape[0]), range(cm.shape[1])):\n",
        "        plt.text(j, i, cm[i, j],\n",
        "                 horizontalalignment=\"center\",\n",
        "                 color=\"white\" if cm[i, j] > thresh else \"black\")\n",
        "\n",
        "    plt.tight_layout()\n",
        "    plt.ylabel('True label')\n",
        "    plt.xlabel('Predicted label')"
      ],
      "execution_count": 0,
      "outputs": []
    },
    {
      "cell_type": "code",
      "metadata": {
        "id": "9z5rFJw-A2jM",
        "colab_type": "code",
        "outputId": "02d247a3-9fd0-4b9a-90cd-51afb43a5bd8",
        "colab": {
          "base_uri": "https://localhost:8080/",
          "height": 345
        }
      },
      "source": [
        "# Plotting the confusion matrix\n",
        "from sklearn.metrics import confusion_matrix\n",
        "\n",
        "cnf_matrix = confusion_matrix(y_test, predictions)\n",
        "\n",
        "class_names = [0,1]\n",
        "plt.figure()\n",
        "plot_confusion_matrix(cnf_matrix , classes=class_names, title='Confusion matrix')\n",
        "plt.show()"
      ],
      "execution_count": 31,
      "outputs": [
        {
          "output_type": "stream",
          "text": [
            "[[0.99793032 0.00206968]\n",
            " [0.75722921 0.24277079]]\n"
          ],
          "name": "stdout"
        },
        {
          "output_type": "display_data",
          "data": {
            "image/png": "[encoded data removed]",
            "text/plain": [
              "<Figure size 432x288 with 2 Axes>"
            ]
          },
          "metadata": {
            "tags": [],
            "needs_background": "light"
          }
        }
      ]
    },
    {
      "cell_type": "markdown",
      "metadata": {
        "id": "IVMWq51kL-pH",
        "colab_type": "text"
      },
      "source": [
        "For Kaggle Submission"
      ]
    },
    {
      "cell_type": "code",
      "metadata": {
        "id": "S9rWpV08rHMS",
        "colab_type": "code",
        "colab": {}
      },
      "source": [
        "# Predict on test dataset for kaggle submission\n",
        "X_fortest.fillna(X_fortest.mean(), inplace = True)\n",
        "X_fortest_numpy = X_fortest.values\n",
        "predictions = classifier.predict(X_fortest_numpy)"
      ],
      "execution_count": 0,
      "outputs": []
    },
    {
      "cell_type": "code",
      "metadata": {
        "id": "OZk6kkN_rIWy",
        "colab_type": "code",
        "colab": {
          "base_uri": "https://localhost:8080/",
          "height": 34
        },
        "outputId": "f2206f85-82ec-4f2e-dcd8-d8c4fed12bbb"
      },
      "source": [
        "print(predictions)"
      ],
      "execution_count": 33,
      "outputs": [
        {
          "output_type": "stream",
          "text": [
            "[0 0 0 ... 0 0 0]\n"
          ],
          "name": "stdout"
        }
      ]
    },
    {
      "cell_type": "code",
      "metadata": {
        "id": "oigXj3V8zRUs",
        "colab_type": "code",
        "colab": {
          "base_uri": "https://localhost:8080/",
          "height": 204
        },
        "outputId": "8140eb5e-0ba2-4024-bee9-d7adeaf2fff8"
      },
      "source": [
        "# Create a DataFrame with the transaction ids and our prediction\n",
        "submission = pd.DataFrame({'TransactionID':test_df['TransactionID'],'isFraud':predictions})\n",
        "\n",
        "# Visualize the first 5 rows\n",
        "submission.head()"
      ],
      "execution_count": 34,
      "outputs": [
        {
          "output_type": "execute_result",
          "data": {
            "text/html": [
              "<div>\n",
              "<style scoped>\n",
              "    .dataframe tbody tr th:only-of-type {\n",
              "        vertical-align: middle;\n",
              "    }\n",
              "\n",
              "    .dataframe tbody tr th {\n",
              "        vertical-align: top;\n",
              "    }\n",
              "\n",
              "    .dataframe thead th {\n",
              "        text-align: right;\n",
              "    }\n",
              "</style>\n",
              "<table border=\"1\" class=\"dataframe\">\n",
              "  <thead>\n",
              "    <tr style=\"text-align: right;\">\n",
              "      <th></th>\n",
              "      <th>TransactionID</th>\n",
              "      <th>isFraud</th>\n",
              "    </tr>\n",
              "  </thead>\n",
              "  <tbody>\n",
              "    <tr>\n",
              "      <th>0</th>\n",
              "      <td>3663549</td>\n",
              "      <td>0</td>\n",
              "    </tr>\n",
              "    <tr>\n",
              "      <th>1</th>\n",
              "      <td>3663550</td>\n",
              "      <td>0</td>\n",
              "    </tr>\n",
              "    <tr>\n",
              "      <th>2</th>\n",
              "      <td>3663551</td>\n",
              "      <td>0</td>\n",
              "    </tr>\n",
              "    <tr>\n",
              "      <th>3</th>\n",
              "      <td>3663552</td>\n",
              "      <td>0</td>\n",
              "    </tr>\n",
              "    <tr>\n",
              "      <th>4</th>\n",
              "      <td>3663553</td>\n",
              "      <td>0</td>\n",
              "    </tr>\n",
              "  </tbody>\n",
              "</table>\n",
              "</div>"
            ],
            "text/plain": [
              "   TransactionID  isFraud\n",
              "0        3663549        0\n",
              "1        3663550        0\n",
              "2        3663551        0\n",
              "3        3663552        0\n",
              "4        3663553        0"
            ]
          },
          "metadata": {
            "tags": []
          },
          "execution_count": 34
        }
      ]
    },
    {
      "cell_type": "code",
      "metadata": {
        "id": "TnfKUovJ0JXL",
        "colab_type": "code",
        "colab": {
          "base_uri": "https://localhost:8080/",
          "height": 34
        },
        "outputId": "816c1e9c-1675-4071-e1e5-cbfabe4ec767"
      },
      "source": [
        "\n",
        "# Convert DataFrame to a csv file that can be uploaded\n",
        "filename = 'Fraud Predictions 1.csv'\n",
        "\n",
        "submission.to_csv(filename,index=False)\n",
        "\n",
        "print('Saved file: ' + filename)"
      ],
      "execution_count": 35,
      "outputs": [
        {
          "output_type": "stream",
          "text": [
            "Saved file: Fraud Predictions 1.csv\n"
          ],
          "name": "stdout"
        }
      ]
    }
  ]
}
